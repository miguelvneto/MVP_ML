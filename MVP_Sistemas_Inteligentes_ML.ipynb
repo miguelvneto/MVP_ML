{
  "nbformat": 4,
  "nbformat_minor": 0,
  "metadata": {
    "colab": {
      "provenance": [],
      "authorship_tag": "ABX9TyNqItN8bBCRCROdKcpBfRQu",
      "include_colab_link": true
    },
    "kernelspec": {
      "name": "python3",
      "display_name": "Python 3"
    },
    "language_info": {
      "name": "python"
    }
  },
  "cells": [
    {
      "cell_type": "markdown",
      "metadata": {
        "id": "view-in-github",
        "colab_type": "text"
      },
      "source": [
        "<a href=\"https://colab.research.google.com/github/miguelvneto/MVP_Sistemas_Inteligentes_ML/blob/main/MVP_Sistemas_Inteligentes_ML.ipynb\" target=\"_parent\"><img src=\"https://colab.research.google.com/assets/colab-badge.svg\" alt=\"Open In Colab\"/></a>"
      ]
    },
    {
      "cell_type": "markdown",
      "source": [
        "# AQUISIÇÃO DA BASE DE DADOS"
      ],
      "metadata": {
        "id": "pnoQeq4bQDXr"
      }
    },
    {
      "cell_type": "code",
      "source": [
        "# https://www.kaggle.com/datasets/samuelotiattakorah/lung-cancer-data\n",
        "!kaggle datasets download -d samuelotiattakorah/lung-cancer-data --unzip\n",
        "\n",
        "# após descompactada, a base de dados pode ser encontrada no seguinte diretório do Google Colab:\n",
        "# /content/lung cancer survey.csv"
      ],
      "metadata": {
        "colab": {
          "base_uri": "https://localhost:8080/"
        },
        "id": "UmGSNuv_QHMT",
        "outputId": "be1a78a3-b15b-4168-cf1e-1bbbb5fc4bdc"
      },
      "execution_count": 1,
      "outputs": [
        {
          "output_type": "stream",
          "name": "stdout",
          "text": [
            "Dataset URL: https://www.kaggle.com/datasets/samuelotiattakorah/lung-cancer-data\n",
            "License(s): CC0-1.0\n",
            "Downloading lung-cancer-data.zip to /content\n",
            "  0% 0.00/2.00k [00:00<?, ?B/s]\n",
            "100% 2.00k/2.00k [00:00<00:00, 2.45MB/s]\n"
          ]
        }
      ]
    },
    {
      "cell_type": "markdown",
      "source": [
        "# TREINO DO MODELO"
      ],
      "metadata": {
        "id": "TIkqLcFZQY6F"
      }
    },
    {
      "cell_type": "code",
      "source": [
        "import pandas as pd\n",
        "import numpy as np\n",
        "import matplotlib.pyplot as plt\n",
        "from sklearn.model_selection import train_test_split, StratifiedKFold, cross_val_score, GridSearchCV\n",
        "from sklearn.neighbors import KNeighborsClassifier\n",
        "from sklearn.tree import DecisionTreeClassifier\n",
        "from sklearn.naive_bayes import GaussianNB\n",
        "from sklearn.svm import SVC\n",
        "from sklearn.preprocessing import StandardScaler, MinMaxScaler\n",
        "from sklearn.pipeline import Pipeline\n",
        "from sklearn.metrics import accuracy_score\n",
        "import pickle\n",
        "\n",
        "import warnings\n",
        "warnings.filterwarnings(\"ignore\")"
      ],
      "metadata": {
        "id": "Ij7mimGfQZ3d"
      },
      "execution_count": 2,
      "outputs": []
    },
    {
      "cell_type": "markdown",
      "source": [
        "## Carga de Dados"
      ],
      "metadata": {
        "id": "5FVNqy53QhOq"
      }
    },
    {
      "cell_type": "code",
      "source": [
        "df = pd.read_csv('/content/lung cancer survey.csv')\n",
        "df['MALE'] = np.where(df['GENDER'] == 'M', 2, 1) # adiciona coluna 'MALE' para substituir a coluna 'GENDER'\n",
        "\n",
        "# padroniza nomes das colunas\n",
        "new_columns = []\n",
        "for column in df.columns:\n",
        "  new_column = column.strip().replace(' ', '_') # retira espaços em branco da borda, e substitui espaço por '_'\n",
        "  new_columns.append(new_column)\n",
        "\n",
        "df.columns = new_columns"
      ],
      "metadata": {
        "id": "F2x8oc1lQvsp"
      },
      "execution_count": 3,
      "outputs": []
    },
    {
      "cell_type": "code",
      "source": [
        "col_features = [\n",
        "       'MALE', 'AGE', 'SMOKING', 'YELLOW_FINGERS', 'ANXIETY',\n",
        "       'PEER_PRESSURE', 'CHRONIC_DISEASE', 'FATIGUE', 'ALLERGY', 'WHEEZING',\n",
        "       'ALCOHOL_CONSUMING', 'COUGHING', 'SHORTNESS_OF_BREATH',\n",
        "       'SWALLOWING_DIFFICULTY', 'CHEST_PAIN'\n",
        "]\n",
        "col_target = 'LUNG_CANCER'\n",
        "\n",
        "# features\n",
        "x = df[col_features]\n",
        "\n",
        "# target\n",
        "y = df[col_target].values"
      ],
      "metadata": {
        "id": "9OPPc3kbQx1w"
      },
      "execution_count": 4,
      "outputs": []
    },
    {
      "cell_type": "markdown",
      "source": [
        "## Holdout"
      ],
      "metadata": {
        "id": "V8WKkp4YQ9G0"
      }
    },
    {
      "cell_type": "code",
      "source": [
        "# Definindo tamanho da base utilizada para teste\n",
        "test_size = 0.20\n",
        "# Definindo semente para reprodutibilidade\n",
        "random_state = 10\n",
        "# Definindo uma semente global\n",
        "np.random.seed(random_state)\n",
        "\n",
        "X_train, X_test, y_train, y_test = train_test_split(\n",
        "    x, y, test_size=test_size,\n",
        "    shuffle=True, random_state=random_state, stratify=y\n",
        ")\n",
        "\n",
        "# Parâmetros e partições da validação cruzada\n",
        "scoring = 'accuracy'\n",
        "num_particoes = 10\n",
        "kfold = StratifiedKFold(n_splits=num_particoes, shuffle=True, random_state=random_state)"
      ],
      "metadata": {
        "id": "64JPYuSUQ93U"
      },
      "execution_count": 5,
      "outputs": []
    },
    {
      "cell_type": "markdown",
      "source": [
        "## Definição das Transformações de Dados"
      ],
      "metadata": {
        "id": "BRCn6wtPRASG"
      }
    },
    {
      "cell_type": "code",
      "source": [
        "# Transformações que serão utilizadas\n",
        "\n",
        "# Padronização\n",
        "standard_scaler = StandardScaler()\n",
        "\n",
        "# Normalização\n",
        "min_max_scaler = MinMaxScaler()"
      ],
      "metadata": {
        "id": "niJjzM5QRDXe"
      },
      "execution_count": 6,
      "outputs": []
    },
    {
      "cell_type": "markdown",
      "source": [
        "## Definindo Modelos"
      ],
      "metadata": {
        "id": "TSD9qtTMRMem"
      }
    },
    {
      "cell_type": "code",
      "source": [
        "# Vetor de modelos\n",
        "modelos = []\n",
        "\n",
        "# Criando os modelos e adicionando-os na lista de modelos\n",
        "modelos.append(('KNN', KNeighborsClassifier())) # KNN\n",
        "modelos.append(('DT', DecisionTreeClassifier())) # Árvore de Classificação\n",
        "modelos.append(('NB', GaussianNB())) # Naive Bayes\n",
        "modelos.append(('SVM', SVC())) # SVM"
      ],
      "metadata": {
        "id": "NwYN80DERPwb"
      },
      "execution_count": 7,
      "outputs": []
    },
    {
      "cell_type": "markdown",
      "source": [
        "## Criando Pipelines"
      ],
      "metadata": {
        "id": "aiNSH0_xRZhz"
      }
    },
    {
      "cell_type": "code",
      "source": [
        "pipelines = []\n",
        "\n",
        "for i, m in enumerate(modelos):\n",
        "    nome = m[0]\n",
        "    model = modelos[i]\n",
        "    pipelines.append((nome, Pipeline([model])))\n",
        "    pipelines.append((nome+' padronizado', Pipeline([('padronizacao', standard_scaler), model])))\n",
        "    pipelines.append((nome+' normalizado', Pipeline([('normalizacao', min_max_scaler), model])))"
      ],
      "metadata": {
        "id": "HX_KW-RTRaL6"
      },
      "execution_count": 8,
      "outputs": []
    },
    {
      "cell_type": "markdown",
      "source": [
        "## Executando os Pipelines"
      ],
      "metadata": {
        "id": "GkXl8-UsRcli"
      }
    },
    {
      "cell_type": "code",
      "source": [
        "resultados = []\n",
        "nomes = []\n",
        "\n",
        "for nome, modelo in pipelines:\n",
        "    cv_results = cross_val_score(modelo, X_train, y_train, cv=kfold, scoring=scoring)\n",
        "    resultados.append(cv_results)\n",
        "    nomes.append(nome)\n",
        "    texto_resultado = f\"{cv_results.mean():.4f} ({cv_results.std():.4f}) - {nome}\"\n",
        "    print(texto_resultado)"
      ],
      "metadata": {
        "colab": {
          "base_uri": "https://localhost:8080/"
        },
        "id": "QOWWHz8vRj1C",
        "outputId": "9d087752-e32a-46bb-dc0b-98facefab1fe"
      },
      "execution_count": 9,
      "outputs": [
        {
          "output_type": "stream",
          "name": "stdout",
          "text": [
            "0.8747 (0.0451) - KNN\n",
            "0.9068 (0.0647) - KNN padronizado\n",
            "0.9070 (0.0671) - KNN normalizado\n",
            "0.9035 (0.0442) - DT\n",
            "0.8750 (0.0600) - DT padronizado\n",
            "0.8955 (0.0622) - DT normalizado\n",
            "0.8907 (0.0675) - NB\n",
            "0.8907 (0.0675) - NB padronizado\n",
            "0.8907 (0.0675) - NB normalizado\n",
            "0.8745 (0.0117) - SVM\n",
            "0.9233 (0.0632) - SVM padronizado\n",
            "0.9192 (0.0648) - SVM normalizado\n"
          ]
        }
      ]
    },
    {
      "cell_type": "code",
      "source": [
        "# Boxplot de comparação dos pipelines\n",
        "fig = plt.figure(figsize=(25,6))\n",
        "fig.suptitle('Comparação Entre as Acurácias obtidas por Diferentes Modelos')\n",
        "ax = fig.add_subplot(111)\n",
        "plt.boxplot(resultados)\n",
        "ax.set_xticklabels(nomes, rotation=45)\n",
        "plt.show()"
      ],
      "metadata": {
        "colab": {
          "base_uri": "https://localhost:8080/",
          "height": 375
        },
        "id": "etYc3yRWRr6s",
        "outputId": "b9d306f5-bbc3-4d5d-aabf-2e6b3305edc5"
      },
      "execution_count": 10,
      "outputs": [
        {
          "output_type": "display_data",
          "data": {
            "text/plain": [
              "<Figure size 2500x600 with 1 Axes>"
            ],
            "image/png": "[encoded data removed]"
          },
          "metadata": {}
        }
      ]
    },
    {
      "cell_type": "markdown",
      "source": [
        "## Otimização de Hiperparâmetros\n"
      ],
      "metadata": {
        "id": "n54byUp3Rw_w"
      }
    },
    {
      "cell_type": "code",
      "source": [
        "# Hiperparametrização dos modelos\n",
        "param_grid_knn = {\n",
        "    'KNN__n_neighbors': [3, 5, 7, 9, 11],\n",
        "    'KNN__weights': ['uniform', 'distance'],\n",
        "    'KNN__metric': ['euclidean', 'manhattan']\n",
        "}\n",
        "\n",
        "param_grid_dt = {\n",
        "    'DT__criterion': ['gini', 'entropy'],\n",
        "    'DT__max_depth': [None, 5, 10, 15],\n",
        "    'DT__min_samples_split': [2, 5, 10]\n",
        "}\n",
        "\n",
        "param_grid_nb = {}\n",
        "\n",
        "param_grid_svm = {\n",
        "    'SVM__C': [0.1, 1, 10],\n",
        "    'SVM__kernel': ['linear', 'rbf', 'poly'],\n",
        "    'SVM__gamma': ['scale', 'auto']\n",
        "}\n",
        "\n",
        "# Variáveis para armazenar resultados\n",
        "grid_search_results = []\n",
        "grid_search_names = []\n",
        "best_pipeline = None\n",
        "best_score = 0\n",
        "\n",
        "# Rodar GridSearchCV em cada pipeline\n",
        "for nome, modelo in pipelines:\n",
        "    if 'KNN' in nome:\n",
        "        grid_search = GridSearchCV(estimator=modelo, param_grid=param_grid_knn, scoring=scoring, cv=kfold)\n",
        "    elif 'DT' in nome:\n",
        "        grid_search = GridSearchCV(estimator=modelo, param_grid=param_grid_dt, scoring=scoring, cv=kfold)\n",
        "    elif 'NB' in nome:\n",
        "        grid_search = GridSearchCV(estimator=modelo, param_grid=param_grid_nb, scoring=scoring, cv=kfold)\n",
        "    elif 'SVM' in nome:\n",
        "        grid_search = GridSearchCV(estimator=modelo, param_grid=param_grid_svm, scoring=scoring, cv=kfold)\n",
        "    else:\n",
        "        continue\n",
        "\n",
        "    # Treinar o modelo com GridSearchCV\n",
        "    grid_search.fit(X_train, y_train)\n",
        "\n",
        "    # Guardar o melhor resultado\n",
        "    grid_search_results.append(grid_search.best_score_)\n",
        "    grid_search_names.append(nome)\n",
        "\n",
        "    # Verificar se este modelo tem a melhor acurácia\n",
        "    if grid_search.best_score_ > best_score:\n",
        "        best_score = grid_search.best_score_\n",
        "        melhor_pipeline = grid_search.best_estimator_  # Armazena a melhor pipeline\n",
        "\n",
        "    # Exibir o resultado\n",
        "    print(f\"Melhor pontuação para {nome}: {grid_search.best_score_:.4f}\")\n",
        "    print(f\"Melhores parâmetros para {nome}: {grid_search.best_params_}\")\n",
        "\n",
        "# Exibir a pipeline de maior acurácia\n",
        "print(\"\\nPipeline com a maior acurácia:\")\n",
        "print(f\"Melhor pipeline: {melhor_pipeline}\")\n",
        "print(f\"Acurácia da melhor pipeline: {best_score:.4f}\")"
      ],
      "metadata": {
        "colab": {
          "base_uri": "https://localhost:8080/"
        },
        "id": "lM-nwdrqRx5f",
        "outputId": "6d6ee20b-7b17-400e-a46e-96b931e0adc0"
      },
      "execution_count": 11,
      "outputs": [
        {
          "output_type": "stream",
          "name": "stdout",
          "text": [
            "Melhor pontuação para KNN: 0.8950\n",
            "Melhores parâmetros para KNN: {'KNN__metric': 'manhattan', 'KNN__n_neighbors': 3, 'KNN__weights': 'distance'}\n",
            "Melhor pontuação para KNN padronizado: 0.9435\n",
            "Melhores parâmetros para KNN padronizado: {'KNN__metric': 'euclidean', 'KNN__n_neighbors': 3, 'KNN__weights': 'distance'}\n",
            "Melhor pontuação para KNN normalizado: 0.9392\n",
            "Melhores parâmetros para KNN normalizado: {'KNN__metric': 'euclidean', 'KNN__n_neighbors': 3, 'KNN__weights': 'distance'}\n",
            "Melhor pontuação para DT: 0.9032\n",
            "Melhores parâmetros para DT: {'DT__criterion': 'entropy', 'DT__max_depth': 5, 'DT__min_samples_split': 2}\n",
            "Melhor pontuação para DT padronizado: 0.9037\n",
            "Melhores parâmetros para DT padronizado: {'DT__criterion': 'gini', 'DT__max_depth': 10, 'DT__min_samples_split': 2}\n",
            "Melhor pontuação para DT normalizado: 0.9073\n",
            "Melhores parâmetros para DT normalizado: {'DT__criterion': 'gini', 'DT__max_depth': 10, 'DT__min_samples_split': 5}\n",
            "Melhor pontuação para NB: 0.8907\n",
            "Melhores parâmetros para NB: {}\n",
            "Melhor pontuação para NB padronizado: 0.8907\n",
            "Melhores parâmetros para NB padronizado: {}\n",
            "Melhor pontuação para NB normalizado: 0.8907\n",
            "Melhores parâmetros para NB normalizado: {}\n",
            "Melhor pontuação para SVM: 0.9072\n",
            "Melhores parâmetros para SVM: {'SVM__C': 1, 'SVM__gamma': 'scale', 'SVM__kernel': 'linear'}\n",
            "Melhor pontuação para SVM padronizado: 0.9313\n",
            "Melhores parâmetros para SVM padronizado: {'SVM__C': 10, 'SVM__gamma': 'scale', 'SVM__kernel': 'rbf'}\n",
            "Melhor pontuação para SVM normalizado: 0.9355\n",
            "Melhores parâmetros para SVM normalizado: {'SVM__C': 1, 'SVM__gamma': 'scale', 'SVM__kernel': 'poly'}\n",
            "\n",
            "Pipeline com a maior acurácia:\n",
            "Melhor pipeline: Pipeline(steps=[('padronizacao', StandardScaler()),\n",
            "                ('KNN',\n",
            "                 KNeighborsClassifier(metric='euclidean', n_neighbors=3,\n",
            "                                      weights='distance'))])\n",
            "Acurácia da melhor pipeline: 0.9435\n"
          ]
        }
      ]
    },
    {
      "cell_type": "markdown",
      "source": [
        "## Selecionando Pipeline de Maior Acurácia"
      ],
      "metadata": {
        "id": "pxmEAjKIR2GL"
      }
    },
    {
      "cell_type": "code",
      "source": [
        "cv_result = cross_val_score(melhor_pipeline, X_train, y_train, cv=kfold, scoring=scoring)\n",
        "\n",
        "texto_resultado = f\"{cv_result.mean():.4f} ({cv_result.std():.4f})\"\n",
        "print(texto_resultado)"
      ],
      "metadata": {
        "colab": {
          "base_uri": "https://localhost:8080/"
        },
        "id": "My0H2I5NR31R",
        "outputId": "1f3ffbb4-9679-4384-9046-a5c9d931ba9d"
      },
      "execution_count": 12,
      "outputs": [
        {
          "output_type": "stream",
          "name": "stdout",
          "text": [
            "0.9435 (0.0409)\n"
          ]
        }
      ]
    },
    {
      "cell_type": "markdown",
      "source": [
        "## Exportação do Modelo Resultante"
      ],
      "metadata": {
        "id": "bhyWaN-YR7i5"
      }
    },
    {
      "cell_type": "code",
      "source": [
        "# Definindo nomes de arquivos\n",
        "scaler_filename = 'scaler.pkl'\n",
        "model_filename = 'model.pkl'\n",
        "pipeline_filename = 'pipeline.pkl'\n",
        "X_test_filename = 'x_test_dataset.csv'\n",
        "y_test_filename = 'y_test_dataset.csv'\n",
        "\n",
        "# Salvando o scaler e modelo separadamente\n",
        "with open(scaler_filename, 'wb') as file:\n",
        "    pickle.dump(melhor_pipeline[0], file)\n",
        "with open(model_filename, 'wb') as file:\n",
        "    pickle.dump(melhor_pipeline[1], file)\n",
        "\n",
        "# Salvando o pipeline\n",
        "with open(pipeline_filename, 'wb') as file:\n",
        "    pickle.dump(melhor_pipeline, file)\n",
        "\n",
        "# Salvando X_test e y_test\n",
        "X_test_df = pd.DataFrame(X_test, columns=col_features)\n",
        "y_test_df = pd.DataFrame(y_test, columns=[col_target])\n",
        "X_test_df.to_csv(X_test_filename, index=False)\n",
        "y_test_df.to_csv(y_test_filename, index=False)"
      ],
      "metadata": {
        "id": "QySEWnoQR-t4"
      },
      "execution_count": 13,
      "outputs": []
    },
    {
      "cell_type": "markdown",
      "source": [
        "# Teste do Modelo Exportado"
      ],
      "metadata": {
        "id": "-TqTI2iaSBbQ"
      }
    },
    {
      "cell_type": "code",
      "source": [
        "# Carrega o pipeline treinado\n",
        "with open(pipeline_filename, 'rb') as file:\n",
        "    pipeline = pickle.load(file)\n",
        "\n",
        "# Função para receber novos dados de entrada\n",
        "def get_new_data():\n",
        "    \"\"\"\n",
        "    Recebe novos dados do usuário para prever se tem câncer de pulmão.\n",
        "    \"\"\"\n",
        "    print(\"Por favor, insira os seguintes dados:\")\n",
        "\n",
        "    male = input(\"Sexo (1 para Feminino, 2 para Masculino): \")\n",
        "    age = input(\"Idade: \")\n",
        "    smoking = input(\"Você fuma? (1 para Não, 2 para Sim): \")\n",
        "    yellow_fingers = input(\"Tem dedos amarelados? (1 para Não, 2 para Sim): \")\n",
        "    anxiety = input(\"Tem ansiedade? (1 para Não, 2 para Sim): \")\n",
        "    peer_pressure = input(\"Sofre pressão dos colegas? (1 para Não, 2 para Sim): \")\n",
        "    chronic_disease = input(\"Tem alguma doença crônica? (1 para Não, 2 para Sim): \")\n",
        "    fatigue = input(\"Sente fadiga? (1 para Não, 2 para Sim): \")\n",
        "    allergy = input(\"Tem alergia? (1 para Não, 2 para Sim): \")\n",
        "    wheezing = input(\"Tem sibilos? (1 para Não, 2 para Sim): \")\n",
        "    alcohol_consuming = input(\"Consome álcool? (1 para Não, 2 para Sim): \")\n",
        "    coughing = input(\"Tem tosse? (1 para Não, 2 para Sim): \")\n",
        "    shortness_of_breath = input(\"Tem falta de ar? (1 para Não, 2 para Sim): \")\n",
        "    swallowing_difficulty = input(\"Tem dificuldade para engolir? (1 para Não, 2 para Sim): \")\n",
        "    chest_pain = input(\"Tem dor no peito? (1 para Não, 2 para Sim): \")\n",
        "\n",
        "    new_data = pd.DataFrame({\n",
        "        'MALE': [int(male)], # subtraído 1 para ficar no padrão da base de dados\n",
        "        'AGE': [int(age)],\n",
        "        'SMOKING': [int(smoking)],\n",
        "        'YELLOW_FINGERS': [int(yellow_fingers)],\n",
        "        'ANXIETY': [int(anxiety)],\n",
        "        'PEER_PRESSURE': [int(peer_pressure)],\n",
        "        'CHRONIC_DISEASE': [int(chronic_disease)],\n",
        "        'FATIGUE': [int(fatigue)],\n",
        "        'ALLERGY': [int(allergy)],\n",
        "        'WHEEZING': [int(wheezing)],\n",
        "        'ALCOHOL_CONSUMING': [int(alcohol_consuming)],\n",
        "        'COUGHING': [int(coughing)],\n",
        "        'SHORTNESS_OF_BREATH': [int(shortness_of_breath)],\n",
        "        'SWALLOWING_DIFFICULTY': [int(swallowing_difficulty)],\n",
        "        'CHEST_PAIN': [int(chest_pain)]\n",
        "    })\n",
        "\n",
        "    return new_data\n",
        "\n",
        "# Obtenha novos dados do usuário\n",
        "new_data = get_new_data()\n",
        "\n",
        "# Faz a previsão com o pipeline\n",
        "prediction = pipeline.predict(new_data)\n",
        "\n",
        "# Exibe o resultado da previsão\n",
        "if prediction[0] == 'YES':\n",
        "    print(\"Previsão: Alta probabilidade de Câncer de Pulmão.\")\n",
        "else:\n",
        "    print(\"Previsão: Baixa probabilidade de Câncer de Pulmão.\")\n"
      ],
      "metadata": {
        "colab": {
          "base_uri": "https://localhost:8080/"
        },
        "id": "xf_uFUsJSB79",
        "outputId": "3610e0cf-8e95-455a-c014-daeba5b79438"
      },
      "execution_count": 14,
      "outputs": [
        {
          "output_type": "stream",
          "name": "stdout",
          "text": [
            "Por favor, insira os seguintes dados:\n",
            "Sexo (1 para Feminino, 2 para Masculino): 2\n",
            "Idade: 30\n",
            "Você fuma? (1 para Não, 2 para Sim): 2\n",
            "Tem dedos amarelados? (1 para Não, 2 para Sim): 2\n",
            "Tem ansiedade? (1 para Não, 2 para Sim): 2\n",
            "Sofre pressão dos colegas? (1 para Não, 2 para Sim): 1\n",
            "Tem alguma doença crônica? (1 para Não, 2 para Sim): 1\n",
            "Sente fadiga? (1 para Não, 2 para Sim): 2\n",
            "Tem alergia? (1 para Não, 2 para Sim): 2\n",
            "Tem sibilos? (1 para Não, 2 para Sim): 2\n",
            "Consome álcool? (1 para Não, 2 para Sim): 2\n",
            "Tem tosse? (1 para Não, 2 para Sim): 2\n",
            "Tem falta de ar? (1 para Não, 2 para Sim): 2\n",
            "Tem dificuldade para engolir? (1 para Não, 2 para Sim): 2\n",
            "Tem dor no peito? (1 para Não, 2 para Sim): 2\n",
            "Previsão: Alta probabilidade de Câncer de Pulmão.\n"
          ]
        }
      ]
    },
    {
      "cell_type": "markdown",
      "source": [
        "# testes"
      ],
      "metadata": {
        "id": "iz1lOvdRSGap"
      }
    },
    {
      "cell_type": "code",
      "source": [
        "nd = new_data.copy()\n",
        "nd['LUNG_CANCER'] = prediction[0]\n",
        "nd"
      ],
      "metadata": {
        "colab": {
          "base_uri": "https://localhost:8080/",
          "height": 109
        },
        "id": "1Wgsa97tSG5O",
        "outputId": "6eb7aa3d-1d42-4a54-fcbf-2496d97c0cee"
      },
      "execution_count": 15,
      "outputs": [
        {
          "output_type": "execute_result",
          "data": {
            "text/plain": [
              "   MALE  AGE  SMOKING  YELLOW_FINGERS  ANXIETY  PEER_PRESSURE  \\\n",
              "0     2   30        2               2        2              1   \n",
              "\n",
              "   CHRONIC_DISEASE  FATIGUE  ALLERGY  WHEEZING  ALCOHOL_CONSUMING  COUGHING  \\\n",
              "0                1        2        2         2                  2         2   \n",
              "\n",
              "   SHORTNESS_OF_BREATH  SWALLOWING_DIFFICULTY  CHEST_PAIN LUNG_CANCER  \n",
              "0                    2                      2           2         YES  "
            ],
            "text/html": [
              "\n",
              "  <div id=\"df-b36a4b48-8e4e-4977-9d9c-dfee419257ab\" class=\"colab-df-container\">\n",
              "    <div>\n",
              "<style scoped>\n",
              "    .dataframe tbody tr th:only-of-type {\n",
              "        vertical-align: middle;\n",
              "    }\n",
              "\n",
              "    .dataframe tbody tr th {\n",
              "        vertical-align: top;\n",
              "    }\n",
              "\n",
              "    .dataframe thead th {\n",
              "        text-align: right;\n",
              "    }\n",
              "</style>\n",
              "<table border=\"1\" class=\"dataframe\">\n",
              "  <thead>\n",
              "    <tr style=\"text-align: right;\">\n",
              "      <th></th>\n",
              "      <th>MALE</th>\n",
              "      <th>AGE</th>\n",
              "      <th>SMOKING</th>\n",
              "      <th>YELLOW_FINGERS</th>\n",
              "      <th>ANXIETY</th>\n",
              "      <th>PEER_PRESSURE</th>\n",
              "      <th>CHRONIC_DISEASE</th>\n",
              "      <th>FATIGUE</th>\n",
              "      <th>ALLERGY</th>\n",
              "      <th>WHEEZING</th>\n",
              "      <th>ALCOHOL_CONSUMING</th>\n",
              "      <th>COUGHING</th>\n",
              "      <th>SHORTNESS_OF_BREATH</th>\n",
              "      <th>SWALLOWING_DIFFICULTY</th>\n",
              "      <th>CHEST_PAIN</th>\n",
              "      <th>LUNG_CANCER</th>\n",
              "    </tr>\n",
              "  </thead>\n",
              "  <tbody>\n",
              "    <tr>\n",
              "      <th>0</th>\n",
              "      <td>2</td>\n",
              "      <td>30</td>\n",
              "      <td>2</td>\n",
              "      <td>2</td>\n",
              "      <td>2</td>\n",
              "      <td>1</td>\n",
              "      <td>1</td>\n",
              "      <td>2</td>\n",
              "      <td>2</td>\n",
              "      <td>2</td>\n",
              "      <td>2</td>\n",
              "      <td>2</td>\n",
              "      <td>2</td>\n",
              "      <td>2</td>\n",
              "      <td>2</td>\n",
              "      <td>YES</td>\n",
              "    </tr>\n",
              "  </tbody>\n",
              "</table>\n",
              "</div>\n",
              "    <div class=\"colab-df-buttons\">\n",
              "\n",
              "  <div class=\"colab-df-container\">\n",
              "    <button class=\"colab-df-convert\" onclick=\"convertToInteractive('df-b36a4b48-8e4e-4977-9d9c-dfee419257ab')\"\n",
              "            title=\"Convert this dataframe to an interactive table.\"\n",
              "            style=\"display:none;\">\n",
              "\n",
              "  <svg xmlns=\"http://www.w3.org/2000/svg\" height=\"24px\" viewBox=\"0 -960 960 960\">\n",
              "    <path d=\"M120-120v-720h720v720H120Zm60-500h600v-160H180v160Zm220 220h160v-160H400v160Zm0 220h160v-160H400v160ZM180-400h160v-160H180v160Zm440 0h160v-160H620v160ZM180-180h160v-160H180v160Zm440 0h160v-160H620v160Z\"/>\n",
              "  </svg>\n",
              "    </button>\n",
              "\n",
              "  <style>\n",
              "    .colab-df-container {\n",
              "      display:flex;\n",
              "      gap: 12px;\n",
              "    }\n",
              "\n",
              "    .colab-df-convert {\n",
              "      background-color: #E8F0FE;\n",
              "      border: none;\n",
              "      border-radius: 50%;\n",
              "      cursor: pointer;\n",
              "      display: none;\n",
              "      fill: #1967D2;\n",
              "      height: 32px;\n",
              "      padding: 0 0 0 0;\n",
              "      width: 32px;\n",
              "    }\n",
              "\n",
              "    .colab-df-convert:hover {\n",
              "      background-color: #E2EBFA;\n",
              "      box-shadow: 0px 1px 2px rgba(60, 64, 67, 0.3), 0px 1px 3px 1px rgba(60, 64, 67, 0.15);\n",
              "      fill: #174EA6;\n",
              "    }\n",
              "\n",
              "    .colab-df-buttons div {\n",
              "      margin-bottom: 4px;\n",
              "    }\n",
              "\n",
              "    [theme=dark] .colab-df-convert {\n",
              "      background-color: #3B4455;\n",
              "      fill: #D2E3FC;\n",
              "    }\n",
              "\n",
              "    [theme=dark] .colab-df-convert:hover {\n",
              "      background-color: #434B5C;\n",
              "      box-shadow: 0px 1px 3px 1px rgba(0, 0, 0, 0.15);\n",
              "      filter: drop-shadow(0px 1px 2px rgba(0, 0, 0, 0.3));\n",
              "      fill: #FFFFFF;\n",
              "    }\n",
              "  </style>\n",
              "\n",
              "    <script>\n",
              "      const buttonEl =\n",
              "        document.querySelector('#df-b36a4b48-8e4e-4977-9d9c-dfee419257ab button.colab-df-convert');\n",
              "      buttonEl.style.display =\n",
              "        google.colab.kernel.accessAllowed ? 'block' : 'none';\n",
              "\n",
              "      async function convertToInteractive(key) {\n",
              "        const element = document.querySelector('#df-b36a4b48-8e4e-4977-9d9c-dfee419257ab');\n",
              "        const dataTable =\n",
              "          await google.colab.kernel.invokeFunction('convertToInteractive',\n",
              "                                                    [key], {});\n",
              "        if (!dataTable) return;\n",
              "\n",
              "        const docLinkHtml = 'Like what you see? Visit the ' +\n",
              "          '<a target=\"_blank\" href=https://colab.research.google.com/notebooks/data_table.ipynb>data table notebook</a>'\n",
              "          + ' to learn more about interactive tables.';\n",
              "        element.innerHTML = '';\n",
              "        dataTable['output_type'] = 'display_data';\n",
              "        await google.colab.output.renderOutput(dataTable, element);\n",
              "        const docLink = document.createElement('div');\n",
              "        docLink.innerHTML = docLinkHtml;\n",
              "        element.appendChild(docLink);\n",
              "      }\n",
              "    </script>\n",
              "  </div>\n",
              "\n",
              "\n",
              "  <div id=\"id_c963d3bc-6240-4347-ab5c-f9a97ebf8c08\">\n",
              "    <style>\n",
              "      .colab-df-generate {\n",
              "        background-color: #E8F0FE;\n",
              "        border: none;\n",
              "        border-radius: 50%;\n",
              "        cursor: pointer;\n",
              "        display: none;\n",
              "        fill: #1967D2;\n",
              "        height: 32px;\n",
              "        padding: 0 0 0 0;\n",
              "        width: 32px;\n",
              "      }\n",
              "\n",
              "      .colab-df-generate:hover {\n",
              "        background-color: #E2EBFA;\n",
              "        box-shadow: 0px 1px 2px rgba(60, 64, 67, 0.3), 0px 1px 3px 1px rgba(60, 64, 67, 0.15);\n",
              "        fill: #174EA6;\n",
              "      }\n",
              "\n",
              "      [theme=dark] .colab-df-generate {\n",
              "        background-color: #3B4455;\n",
              "        fill: #D2E3FC;\n",
              "      }\n",
              "\n",
              "      [theme=dark] .colab-df-generate:hover {\n",
              "        background-color: #434B5C;\n",
              "        box-shadow: 0px 1px 3px 1px rgba(0, 0, 0, 0.15);\n",
              "        filter: drop-shadow(0px 1px 2px rgba(0, 0, 0, 0.3));\n",
              "        fill: #FFFFFF;\n",
              "      }\n",
              "    </style>\n",
              "    <button class=\"colab-df-generate\" onclick=\"generateWithVariable('nd')\"\n",
              "            title=\"Generate code using this dataframe.\"\n",
              "            style=\"display:none;\">\n",
              "\n",
              "  <svg xmlns=\"http://www.w3.org/2000/svg\" height=\"24px\"viewBox=\"0 0 24 24\"\n",
              "       width=\"24px\">\n",
              "    <path d=\"M7,19H8.4L18.45,9,17,7.55,7,17.6ZM5,21V16.75L18.45,3.32a2,2,0,0,1,2.83,0l1.4,1.43a1.91,1.91,0,0,1,.58,1.4,1.91,1.91,0,0,1-.58,1.4L9.25,21ZM18.45,9,17,7.55Zm-12,3A5.31,5.31,0,0,0,4.9,8.1,5.31,5.31,0,0,0,1,6.5,5.31,5.31,0,0,0,4.9,4.9,5.31,5.31,0,0,0,6.5,1,5.31,5.31,0,0,0,8.1,4.9,5.31,5.31,0,0,0,12,6.5,5.46,5.46,0,0,0,6.5,12Z\"/>\n",
              "  </svg>\n",
              "    </button>\n",
              "    <script>\n",
              "      (() => {\n",
              "      const buttonEl =\n",
              "        document.querySelector('#id_c963d3bc-6240-4347-ab5c-f9a97ebf8c08 button.colab-df-generate');\n",
              "      buttonEl.style.display =\n",
              "        google.colab.kernel.accessAllowed ? 'block' : 'none';\n",
              "\n",
              "      buttonEl.onclick = () => {\n",
              "        google.colab.notebook.generateWithVariable('nd');\n",
              "      }\n",
              "      })();\n",
              "    </script>\n",
              "  </div>\n",
              "\n",
              "    </div>\n",
              "  </div>\n"
            ],
            "application/vnd.google.colaboratory.intrinsic+json": {
              "type": "dataframe",
              "variable_name": "nd",
              "summary": "{\n  \"name\": \"nd\",\n  \"rows\": 1,\n  \"fields\": [\n    {\n      \"column\": \"MALE\",\n      \"properties\": {\n        \"dtype\": \"number\",\n        \"std\": null,\n        \"min\": 2,\n        \"max\": 2,\n        \"num_unique_values\": 1,\n        \"samples\": [\n          2\n        ],\n        \"semantic_type\": \"\",\n        \"description\": \"\"\n      }\n    },\n    {\n      \"column\": \"AGE\",\n      \"properties\": {\n        \"dtype\": \"number\",\n        \"std\": null,\n        \"min\": 30,\n        \"max\": 30,\n        \"num_unique_values\": 1,\n        \"samples\": [\n          30\n        ],\n        \"semantic_type\": \"\",\n        \"description\": \"\"\n      }\n    },\n    {\n      \"column\": \"SMOKING\",\n      \"properties\": {\n        \"dtype\": \"number\",\n        \"std\": null,\n        \"min\": 2,\n        \"max\": 2,\n        \"num_unique_values\": 1,\n        \"samples\": [\n          2\n        ],\n        \"semantic_type\": \"\",\n        \"description\": \"\"\n      }\n    },\n    {\n      \"column\": \"YELLOW_FINGERS\",\n      \"properties\": {\n        \"dtype\": \"number\",\n        \"std\": null,\n        \"min\": 2,\n        \"max\": 2,\n        \"num_unique_values\": 1,\n        \"samples\": [\n          2\n        ],\n        \"semantic_type\": \"\",\n        \"description\": \"\"\n      }\n    },\n    {\n      \"column\": \"ANXIETY\",\n      \"properties\": {\n        \"dtype\": \"number\",\n        \"std\": null,\n        \"min\": 2,\n        \"max\": 2,\n        \"num_unique_values\": 1,\n        \"samples\": [\n          2\n        ],\n        \"semantic_type\": \"\",\n        \"description\": \"\"\n      }\n    },\n    {\n      \"column\": \"PEER_PRESSURE\",\n      \"properties\": {\n        \"dtype\": \"number\",\n        \"std\": null,\n        \"min\": 1,\n        \"max\": 1,\n        \"num_unique_values\": 1,\n        \"samples\": [\n          1\n        ],\n        \"semantic_type\": \"\",\n        \"description\": \"\"\n      }\n    },\n    {\n      \"column\": \"CHRONIC_DISEASE\",\n      \"properties\": {\n        \"dtype\": \"number\",\n        \"std\": null,\n        \"min\": 1,\n        \"max\": 1,\n        \"num_unique_values\": 1,\n        \"samples\": [\n          1\n        ],\n        \"semantic_type\": \"\",\n        \"description\": \"\"\n      }\n    },\n    {\n      \"column\": \"FATIGUE\",\n      \"properties\": {\n        \"dtype\": \"number\",\n        \"std\": null,\n        \"min\": 2,\n        \"max\": 2,\n        \"num_unique_values\": 1,\n        \"samples\": [\n          2\n        ],\n        \"semantic_type\": \"\",\n        \"description\": \"\"\n      }\n    },\n    {\n      \"column\": \"ALLERGY\",\n      \"properties\": {\n        \"dtype\": \"number\",\n        \"std\": null,\n        \"min\": 2,\n        \"max\": 2,\n        \"num_unique_values\": 1,\n        \"samples\": [\n          2\n        ],\n        \"semantic_type\": \"\",\n        \"description\": \"\"\n      }\n    },\n    {\n      \"column\": \"WHEEZING\",\n      \"properties\": {\n        \"dtype\": \"number\",\n        \"std\": null,\n        \"min\": 2,\n        \"max\": 2,\n        \"num_unique_values\": 1,\n        \"samples\": [\n          2\n        ],\n        \"semantic_type\": \"\",\n        \"description\": \"\"\n      }\n    },\n    {\n      \"column\": \"ALCOHOL_CONSUMING\",\n      \"properties\": {\n        \"dtype\": \"number\",\n        \"std\": null,\n        \"min\": 2,\n        \"max\": 2,\n        \"num_unique_values\": 1,\n        \"samples\": [\n          2\n        ],\n        \"semantic_type\": \"\",\n        \"description\": \"\"\n      }\n    },\n    {\n      \"column\": \"COUGHING\",\n      \"properties\": {\n        \"dtype\": \"number\",\n        \"std\": null,\n        \"min\": 2,\n        \"max\": 2,\n        \"num_unique_values\": 1,\n        \"samples\": [\n          2\n        ],\n        \"semantic_type\": \"\",\n        \"description\": \"\"\n      }\n    },\n    {\n      \"column\": \"SHORTNESS_OF_BREATH\",\n      \"properties\": {\n        \"dtype\": \"number\",\n        \"std\": null,\n        \"min\": 2,\n        \"max\": 2,\n        \"num_unique_values\": 1,\n        \"samples\": [\n          2\n        ],\n        \"semantic_type\": \"\",\n        \"description\": \"\"\n      }\n    },\n    {\n      \"column\": \"SWALLOWING_DIFFICULTY\",\n      \"properties\": {\n        \"dtype\": \"number\",\n        \"std\": null,\n        \"min\": 2,\n        \"max\": 2,\n        \"num_unique_values\": 1,\n        \"samples\": [\n          2\n        ],\n        \"semantic_type\": \"\",\n        \"description\": \"\"\n      }\n    },\n    {\n      \"column\": \"CHEST_PAIN\",\n      \"properties\": {\n        \"dtype\": \"number\",\n        \"std\": null,\n        \"min\": 2,\n        \"max\": 2,\n        \"num_unique_values\": 1,\n        \"samples\": [\n          2\n        ],\n        \"semantic_type\": \"\",\n        \"description\": \"\"\n      }\n    },\n    {\n      \"column\": \"LUNG_CANCER\",\n      \"properties\": {\n        \"dtype\": \"string\",\n        \"num_unique_values\": 1,\n        \"samples\": [\n          \"YES\"\n        ],\n        \"semantic_type\": \"\",\n        \"description\": \"\"\n      }\n    }\n  ]\n}"
            }
          },
          "metadata": {},
          "execution_count": 15
        }
      ]
    },
    {
      "cell_type": "code",
      "source": [
        "import sqlite3\n",
        "import pandas as pd\n",
        "\n",
        "# Conectar ao banco de dados (ou criar se não existir)\n",
        "nome_database = 'lung_cancer_predictions.db'\n",
        "nome_tabela = 'predictions'"
      ],
      "metadata": {
        "id": "x9gN_k5HSK6s"
      },
      "execution_count": 19,
      "outputs": []
    },
    {
      "cell_type": "code",
      "source": [
        "conn = sqlite3.connect(nome_database)\n",
        "cursor = conn.cursor()\n",
        "\n",
        "# Criar tabela se não existir\n",
        "cursor.execute(f'''\n",
        "    CREATE TABLE IF NOT EXISTS {nome_tabela} (\n",
        "        ID INTEGER PRIMARY KEY AUTOINCREMENT,\n",
        "        MALE INTEGER,\n",
        "        AGE INTEGER,\n",
        "        SMOKING INTEGER,\n",
        "        YELLOW_FINGERS INTEGER,\n",
        "        ANXIETY INTEGER,\n",
        "        PEER_PRESSURE INTEGER,\n",
        "        \"CHRONIC_DISEASE\" INTEGER,\n",
        "        \"FATIGUE\" INTEGER,\n",
        "        \"ALLERGY\" INTEGER,\n",
        "        WHEEZING INTEGER,\n",
        "        \"ALCOHOL_CONSUMING\" INTEGER,\n",
        "        COUGHING INTEGER,\n",
        "        \"SHORTNESS_OF_BREATH\" INTEGER,\n",
        "        \"SWALLOWING_DIFFICULTY\" INTEGER,\n",
        "        \"CHEST_PAIN\" INTEGER,\n",
        "        LUNG_CANCER TEXT\n",
        "    )\n",
        "''')\n",
        "\n",
        "# Inserir dados do DataFrame 'nd' na tabela\n",
        "nd.to_sql(nome_tabela, conn, if_exists='append', index=False)\n",
        "\n",
        "# Confirmar as alterações e fechar a conexão\n",
        "conn.commit()\n",
        "conn.close()"
      ],
      "metadata": {
        "id": "sz4EW1txSV__"
      },
      "execution_count": 20,
      "outputs": []
    },
    {
      "cell_type": "code",
      "source": [
        "# Conectar ao banco de dados\n",
        "conn = sqlite3.connect('lung_cancer_predictions.db')\n",
        "cursor = conn.cursor()\n",
        "\n",
        "# Consulta SQL para recuperar todos os dados da tabela 'predictions'\n",
        "cursor.execute(\"SELECT * FROM predictions\")\n",
        "\n",
        "# Obter os resultados da consulta\n",
        "rows = cursor.fetchall()\n",
        "\n",
        "# Criar um DataFrame do Pandas com os dados recuperados\n",
        "df_predictions = pd.DataFrame(rows, columns=[ 'ID',\n",
        "    'MALE', 'AGE', 'SMOKING', 'YELLOW_FINGERS', 'ANXIETY', 'PEER_PRESSURE',\n",
        "    'CHRONIC DISEASE', 'FATIGUE ', 'ALLERGY ', 'WHEEZING',\n",
        "    'ALCOHOL CONSUMING', 'COUGHING', 'SHORTNESS OF BREATH',\n",
        "    'SWALLOWING DIFFICULTY', 'CHEST PAIN', 'LUNG_CANCER'\n",
        "])\n",
        "\n",
        "# Fechar a conexão com o banco de dados\n",
        "conn.close()\n",
        "\n",
        "# Exibir o DataFrame com os dados recuperados\n",
        "df_predictions"
      ],
      "metadata": {
        "colab": {
          "base_uri": "https://localhost:8080/",
          "height": 118
        },
        "id": "2i0uuGoPSYtg",
        "outputId": "8cb39e19-19f7-4c5e-e642-6f23d4754fec"
      },
      "execution_count": 21,
      "outputs": [
        {
          "output_type": "execute_result",
          "data": {
            "text/plain": [
              "   ID  MALE  AGE  SMOKING  YELLOW_FINGERS  ANXIETY  PEER_PRESSURE  \\\n",
              "0   1     2   30        2               2        2              1   \n",
              "\n",
              "   CHRONIC DISEASE  FATIGUE   ALLERGY   WHEEZING  ALCOHOL CONSUMING  COUGHING  \\\n",
              "0                1         2         2         2                  2         2   \n",
              "\n",
              "   SHORTNESS OF BREATH  SWALLOWING DIFFICULTY  CHEST PAIN LUNG_CANCER  \n",
              "0                    2                      2           2         YES  "
            ],
            "text/html": [
              "\n",
              "  <div id=\"df-d056c9dc-f5e5-436d-b975-1ab63430fc04\" class=\"colab-df-container\">\n",
              "    <div>\n",
              "<style scoped>\n",
              "    .dataframe tbody tr th:only-of-type {\n",
              "        vertical-align: middle;\n",
              "    }\n",
              "\n",
              "    .dataframe tbody tr th {\n",
              "        vertical-align: top;\n",
              "    }\n",
              "\n",
              "    .dataframe thead th {\n",
              "        text-align: right;\n",
              "    }\n",
              "</style>\n",
              "<table border=\"1\" class=\"dataframe\">\n",
              "  <thead>\n",
              "    <tr style=\"text-align: right;\">\n",
              "      <th></th>\n",
              "      <th>ID</th>\n",
              "      <th>MALE</th>\n",
              "      <th>AGE</th>\n",
              "      <th>SMOKING</th>\n",
              "      <th>YELLOW_FINGERS</th>\n",
              "      <th>ANXIETY</th>\n",
              "      <th>PEER_PRESSURE</th>\n",
              "      <th>CHRONIC DISEASE</th>\n",
              "      <th>FATIGUE</th>\n",
              "      <th>ALLERGY</th>\n",
              "      <th>WHEEZING</th>\n",
              "      <th>ALCOHOL CONSUMING</th>\n",
              "      <th>COUGHING</th>\n",
              "      <th>SHORTNESS OF BREATH</th>\n",
              "      <th>SWALLOWING DIFFICULTY</th>\n",
              "      <th>CHEST PAIN</th>\n",
              "      <th>LUNG_CANCER</th>\n",
              "    </tr>\n",
              "  </thead>\n",
              "  <tbody>\n",
              "    <tr>\n",
              "      <th>0</th>\n",
              "      <td>1</td>\n",
              "      <td>2</td>\n",
              "      <td>30</td>\n",
              "      <td>2</td>\n",
              "      <td>2</td>\n",
              "      <td>2</td>\n",
              "      <td>1</td>\n",
              "      <td>1</td>\n",
              "      <td>2</td>\n",
              "      <td>2</td>\n",
              "      <td>2</td>\n",
              "      <td>2</td>\n",
              "      <td>2</td>\n",
              "      <td>2</td>\n",
              "      <td>2</td>\n",
              "      <td>2</td>\n",
              "      <td>YES</td>\n",
              "    </tr>\n",
              "  </tbody>\n",
              "</table>\n",
              "</div>\n",
              "    <div class=\"colab-df-buttons\">\n",
              "\n",
              "  <div class=\"colab-df-container\">\n",
              "    <button class=\"colab-df-convert\" onclick=\"convertToInteractive('df-d056c9dc-f5e5-436d-b975-1ab63430fc04')\"\n",
              "            title=\"Convert this dataframe to an interactive table.\"\n",
              "            style=\"display:none;\">\n",
              "\n",
              "  <svg xmlns=\"http://www.w3.org/2000/svg\" height=\"24px\" viewBox=\"0 -960 960 960\">\n",
              "    <path d=\"M120-120v-720h720v720H120Zm60-500h600v-160H180v160Zm220 220h160v-160H400v160Zm0 220h160v-160H400v160ZM180-400h160v-160H180v160Zm440 0h160v-160H620v160ZM180-180h160v-160H180v160Zm440 0h160v-160H620v160Z\"/>\n",
              "  </svg>\n",
              "    </button>\n",
              "\n",
              "  <style>\n",
              "    .colab-df-container {\n",
              "      display:flex;\n",
              "      gap: 12px;\n",
              "    }\n",
              "\n",
              "    .colab-df-convert {\n",
              "      background-color: #E8F0FE;\n",
              "      border: none;\n",
              "      border-radius: 50%;\n",
              "      cursor: pointer;\n",
              "      display: none;\n",
              "      fill: #1967D2;\n",
              "      height: 32px;\n",
              "      padding: 0 0 0 0;\n",
              "      width: 32px;\n",
              "    }\n",
              "\n",
              "    .colab-df-convert:hover {\n",
              "      background-color: #E2EBFA;\n",
              "      box-shadow: 0px 1px 2px rgba(60, 64, 67, 0.3), 0px 1px 3px 1px rgba(60, 64, 67, 0.15);\n",
              "      fill: #174EA6;\n",
              "    }\n",
              "\n",
              "    .colab-df-buttons div {\n",
              "      margin-bottom: 4px;\n",
              "    }\n",
              "\n",
              "    [theme=dark] .colab-df-convert {\n",
              "      background-color: #3B4455;\n",
              "      fill: #D2E3FC;\n",
              "    }\n",
              "\n",
              "    [theme=dark] .colab-df-convert:hover {\n",
              "      background-color: #434B5C;\n",
              "      box-shadow: 0px 1px 3px 1px rgba(0, 0, 0, 0.15);\n",
              "      filter: drop-shadow(0px 1px 2px rgba(0, 0, 0, 0.3));\n",
              "      fill: #FFFFFF;\n",
              "    }\n",
              "  </style>\n",
              "\n",
              "    <script>\n",
              "      const buttonEl =\n",
              "        document.querySelector('#df-d056c9dc-f5e5-436d-b975-1ab63430fc04 button.colab-df-convert');\n",
              "      buttonEl.style.display =\n",
              "        google.colab.kernel.accessAllowed ? 'block' : 'none';\n",
              "\n",
              "      async function convertToInteractive(key) {\n",
              "        const element = document.querySelector('#df-d056c9dc-f5e5-436d-b975-1ab63430fc04');\n",
              "        const dataTable =\n",
              "          await google.colab.kernel.invokeFunction('convertToInteractive',\n",
              "                                                    [key], {});\n",
              "        if (!dataTable) return;\n",
              "\n",
              "        const docLinkHtml = 'Like what you see? Visit the ' +\n",
              "          '<a target=\"_blank\" href=https://colab.research.google.com/notebooks/data_table.ipynb>data table notebook</a>'\n",
              "          + ' to learn more about interactive tables.';\n",
              "        element.innerHTML = '';\n",
              "        dataTable['output_type'] = 'display_data';\n",
              "        await google.colab.output.renderOutput(dataTable, element);\n",
              "        const docLink = document.createElement('div');\n",
              "        docLink.innerHTML = docLinkHtml;\n",
              "        element.appendChild(docLink);\n",
              "      }\n",
              "    </script>\n",
              "  </div>\n",
              "\n",
              "\n",
              "  <div id=\"id_7e45843d-32f3-40bc-b335-b0ff8843d0ab\">\n",
              "    <style>\n",
              "      .colab-df-generate {\n",
              "        background-color: #E8F0FE;\n",
              "        border: none;\n",
              "        border-radius: 50%;\n",
              "        cursor: pointer;\n",
              "        display: none;\n",
              "        fill: #1967D2;\n",
              "        height: 32px;\n",
              "        padding: 0 0 0 0;\n",
              "        width: 32px;\n",
              "      }\n",
              "\n",
              "      .colab-df-generate:hover {\n",
              "        background-color: #E2EBFA;\n",
              "        box-shadow: 0px 1px 2px rgba(60, 64, 67, 0.3), 0px 1px 3px 1px rgba(60, 64, 67, 0.15);\n",
              "        fill: #174EA6;\n",
              "      }\n",
              "\n",
              "      [theme=dark] .colab-df-generate {\n",
              "        background-color: #3B4455;\n",
              "        fill: #D2E3FC;\n",
              "      }\n",
              "\n",
              "      [theme=dark] .colab-df-generate:hover {\n",
              "        background-color: #434B5C;\n",
              "        box-shadow: 0px 1px 3px 1px rgba(0, 0, 0, 0.15);\n",
              "        filter: drop-shadow(0px 1px 2px rgba(0, 0, 0, 0.3));\n",
              "        fill: #FFFFFF;\n",
              "      }\n",
              "    </style>\n",
              "    <button class=\"colab-df-generate\" onclick=\"generateWithVariable('df_predictions')\"\n",
              "            title=\"Generate code using this dataframe.\"\n",
              "            style=\"display:none;\">\n",
              "\n",
              "  <svg xmlns=\"http://www.w3.org/2000/svg\" height=\"24px\"viewBox=\"0 0 24 24\"\n",
              "       width=\"24px\">\n",
              "    <path d=\"M7,19H8.4L18.45,9,17,7.55,7,17.6ZM5,21V16.75L18.45,3.32a2,2,0,0,1,2.83,0l1.4,1.43a1.91,1.91,0,0,1,.58,1.4,1.91,1.91,0,0,1-.58,1.4L9.25,21ZM18.45,9,17,7.55Zm-12,3A5.31,5.31,0,0,0,4.9,8.1,5.31,5.31,0,0,0,1,6.5,5.31,5.31,0,0,0,4.9,4.9,5.31,5.31,0,0,0,6.5,1,5.31,5.31,0,0,0,8.1,4.9,5.31,5.31,0,0,0,12,6.5,5.46,5.46,0,0,0,6.5,12Z\"/>\n",
              "  </svg>\n",
              "    </button>\n",
              "    <script>\n",
              "      (() => {\n",
              "      const buttonEl =\n",
              "        document.querySelector('#id_7e45843d-32f3-40bc-b335-b0ff8843d0ab button.colab-df-generate');\n",
              "      buttonEl.style.display =\n",
              "        google.colab.kernel.accessAllowed ? 'block' : 'none';\n",
              "\n",
              "      buttonEl.onclick = () => {\n",
              "        google.colab.notebook.generateWithVariable('df_predictions');\n",
              "      }\n",
              "      })();\n",
              "    </script>\n",
              "  </div>\n",
              "\n",
              "    </div>\n",
              "  </div>\n"
            ],
            "application/vnd.google.colaboratory.intrinsic+json": {
              "type": "dataframe",
              "variable_name": "df_predictions",
              "summary": "{\n  \"name\": \"df_predictions\",\n  \"rows\": 1,\n  \"fields\": [\n    {\n      \"column\": \"ID\",\n      \"properties\": {\n        \"dtype\": \"number\",\n        \"std\": null,\n        \"min\": 1,\n        \"max\": 1,\n        \"num_unique_values\": 1,\n        \"samples\": [\n          1\n        ],\n        \"semantic_type\": \"\",\n        \"description\": \"\"\n      }\n    },\n    {\n      \"column\": \"MALE\",\n      \"properties\": {\n        \"dtype\": \"number\",\n        \"std\": null,\n        \"min\": 2,\n        \"max\": 2,\n        \"num_unique_values\": 1,\n        \"samples\": [\n          2\n        ],\n        \"semantic_type\": \"\",\n        \"description\": \"\"\n      }\n    },\n    {\n      \"column\": \"AGE\",\n      \"properties\": {\n        \"dtype\": \"number\",\n        \"std\": null,\n        \"min\": 30,\n        \"max\": 30,\n        \"num_unique_values\": 1,\n        \"samples\": [\n          30\n        ],\n        \"semantic_type\": \"\",\n        \"description\": \"\"\n      }\n    },\n    {\n      \"column\": \"SMOKING\",\n      \"properties\": {\n        \"dtype\": \"number\",\n        \"std\": null,\n        \"min\": 2,\n        \"max\": 2,\n        \"num_unique_values\": 1,\n        \"samples\": [\n          2\n        ],\n        \"semantic_type\": \"\",\n        \"description\": \"\"\n      }\n    },\n    {\n      \"column\": \"YELLOW_FINGERS\",\n      \"properties\": {\n        \"dtype\": \"number\",\n        \"std\": null,\n        \"min\": 2,\n        \"max\": 2,\n        \"num_unique_values\": 1,\n        \"samples\": [\n          2\n        ],\n        \"semantic_type\": \"\",\n        \"description\": \"\"\n      }\n    },\n    {\n      \"column\": \"ANXIETY\",\n      \"properties\": {\n        \"dtype\": \"number\",\n        \"std\": null,\n        \"min\": 2,\n        \"max\": 2,\n        \"num_unique_values\": 1,\n        \"samples\": [\n          2\n        ],\n        \"semantic_type\": \"\",\n        \"description\": \"\"\n      }\n    },\n    {\n      \"column\": \"PEER_PRESSURE\",\n      \"properties\": {\n        \"dtype\": \"number\",\n        \"std\": null,\n        \"min\": 1,\n        \"max\": 1,\n        \"num_unique_values\": 1,\n        \"samples\": [\n          1\n        ],\n        \"semantic_type\": \"\",\n        \"description\": \"\"\n      }\n    },\n    {\n      \"column\": \"CHRONIC DISEASE\",\n      \"properties\": {\n        \"dtype\": \"number\",\n        \"std\": null,\n        \"min\": 1,\n        \"max\": 1,\n        \"num_unique_values\": 1,\n        \"samples\": [\n          1\n        ],\n        \"semantic_type\": \"\",\n        \"description\": \"\"\n      }\n    },\n    {\n      \"column\": \"FATIGUE \",\n      \"properties\": {\n        \"dtype\": \"number\",\n        \"std\": null,\n        \"min\": 2,\n        \"max\": 2,\n        \"num_unique_values\": 1,\n        \"samples\": [\n          2\n        ],\n        \"semantic_type\": \"\",\n        \"description\": \"\"\n      }\n    },\n    {\n      \"column\": \"ALLERGY \",\n      \"properties\": {\n        \"dtype\": \"number\",\n        \"std\": null,\n        \"min\": 2,\n        \"max\": 2,\n        \"num_unique_values\": 1,\n        \"samples\": [\n          2\n        ],\n        \"semantic_type\": \"\",\n        \"description\": \"\"\n      }\n    },\n    {\n      \"column\": \"WHEEZING\",\n      \"properties\": {\n        \"dtype\": \"number\",\n        \"std\": null,\n        \"min\": 2,\n        \"max\": 2,\n        \"num_unique_values\": 1,\n        \"samples\": [\n          2\n        ],\n        \"semantic_type\": \"\",\n        \"description\": \"\"\n      }\n    },\n    {\n      \"column\": \"ALCOHOL CONSUMING\",\n      \"properties\": {\n        \"dtype\": \"number\",\n        \"std\": null,\n        \"min\": 2,\n        \"max\": 2,\n        \"num_unique_values\": 1,\n        \"samples\": [\n          2\n        ],\n        \"semantic_type\": \"\",\n        \"description\": \"\"\n      }\n    },\n    {\n      \"column\": \"COUGHING\",\n      \"properties\": {\n        \"dtype\": \"number\",\n        \"std\": null,\n        \"min\": 2,\n        \"max\": 2,\n        \"num_unique_values\": 1,\n        \"samples\": [\n          2\n        ],\n        \"semantic_type\": \"\",\n        \"description\": \"\"\n      }\n    },\n    {\n      \"column\": \"SHORTNESS OF BREATH\",\n      \"properties\": {\n        \"dtype\": \"number\",\n        \"std\": null,\n        \"min\": 2,\n        \"max\": 2,\n        \"num_unique_values\": 1,\n        \"samples\": [\n          2\n        ],\n        \"semantic_type\": \"\",\n        \"description\": \"\"\n      }\n    },\n    {\n      \"column\": \"SWALLOWING DIFFICULTY\",\n      \"properties\": {\n        \"dtype\": \"number\",\n        \"std\": null,\n        \"min\": 2,\n        \"max\": 2,\n        \"num_unique_values\": 1,\n        \"samples\": [\n          2\n        ],\n        \"semantic_type\": \"\",\n        \"description\": \"\"\n      }\n    },\n    {\n      \"column\": \"CHEST PAIN\",\n      \"properties\": {\n        \"dtype\": \"number\",\n        \"std\": null,\n        \"min\": 2,\n        \"max\": 2,\n        \"num_unique_values\": 1,\n        \"samples\": [\n          2\n        ],\n        \"semantic_type\": \"\",\n        \"description\": \"\"\n      }\n    },\n    {\n      \"column\": \"LUNG_CANCER\",\n      \"properties\": {\n        \"dtype\": \"string\",\n        \"num_unique_values\": 1,\n        \"samples\": [\n          \"YES\"\n        ],\n        \"semantic_type\": \"\",\n        \"description\": \"\"\n      }\n    }\n  ]\n}"
            }
          },
          "metadata": {},
          "execution_count": 21
        }
      ]
    }
  ]
}